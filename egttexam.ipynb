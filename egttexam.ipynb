{
 "cells": [
  {
   "cell_type": "code",
   "execution_count": null,
   "id": "e95c4fe6-b1ac-4913-bee5-de4345699bcb",
   "metadata": {},
   "outputs": [],
   "source": [
    "import numpy as np\n",
    "# Plotting libraries\n",
    "import matplotlib.pylab as plt\n",
    "# Magic function to make matplotlib inline; other style specs must come AFTER\n",
    "%matplotlib inline\n",
    "# This enables high resolution PNGs.\n",
    "%config InlineBackend.figure_formats = {'png', 'svg'}"
   ]
  },
  {
   "cell_type": "code",
   "execution_count": null,
   "id": "692dcf96-0aef-4a24-84f4-d5b60852e7eb",
   "metadata": {},
   "outputs": [],
   "source": [
    "from egttools.analytical import replicator_equation\n",
    "from egttools.utils import find_saddle_type_and_gradient_direction\n",
    "from egttools.plotting import plot_gradient"
   ]
  },
  {
   "cell_type": "code",
   "execution_count": null,
   "id": "de64c965-58ac-49d5-8209-8a0aba629ed5",
   "metadata": {},
   "outputs": [],
   "source": [
    "nb_points = 101\n",
    "strategy_i = np.linspace(0, 1, num=nb_points, dtype=np.float64)\n",
    "strategy_j = 1 - strategy_i\n",
    "states = np.array((strategy_i,strategy_j)).T\n",
    "\n",
    "# Payoff matrix\n",
    "T = 4\n",
    "R = 3\n",
    "P = 2\n",
    "S = 1\n",
    "M = 51\n",
    "N = 100\n",
    "A = np.array([\n",
    "        [(M/N) * R, (M/N) * S],\n",
    "        [(M/N) * T, P],\n",
    "    ])\n",
    "\n",
    "def prisoner_payoff(T, R , P , S , M ,N):\n",
    "    if(M < N/2):\n",
    "        return np.array([\n",
    "        [P,P],\n",
    "        [P, P],\n",
    "    ])\n",
    "    else:\n",
    "        return np.array([\n",
    "                [(M/N) * R, (M/N) * S],\n",
    "                [(M/N) * T, P],\n",
    "    ])\n",
    "A = prisoner_payoff(T, R , P , S , M ,N)   "
   ]
  },
  {
   "cell_type": "code",
   "execution_count": null,
   "id": "1afc390f-e328-4156-b4a6-4e9b9568e617",
   "metadata": {},
   "outputs": [],
   "source": [
    "# Calculate gradient\n",
    "G = np.array([replicator_equation(states[i], A)[0] for i in range(len(states))])"
   ]
  },
  {
   "cell_type": "code",
   "execution_count": null,
   "id": "59874398-7143-4803-a98c-8e2916e49401",
   "metadata": {},
   "outputs": [],
   "source": [
    "# Find saddle points (where the gradient is 0)\n",
    "epsilon = 1e-7\n",
    "saddle_points_idx = np.where((G <= epsilon) & (G >= -epsilon))[0]\n",
    "saddle_points = saddle_points_idx / (nb_points - 1)\n",
    "\n",
    "# Now let's find which saddle points are absorbing/stable and which aren't\n",
    "# we also annotate the gradient's direction among saddle poinst\n",
    "saddle_type, gradient_direction = find_saddle_type_and_gradient_direction(G, saddle_points_idx)"
   ]
  },
  {
   "cell_type": "code",
   "execution_count": null,
   "id": "9b5e0462-cdf3-45bd-a598-d8e22b4e1075",
   "metadata": {},
   "outputs": [],
   "source": [
    "ax = plot_gradient(strategy_i,\n",
    "                   G,\n",
    "                   saddle_points,\n",
    "                   saddle_type,\n",
    "                   gradient_direction,\n",
    "                   'Prisoner game replicator dynamics',\n",
    "                   xlabel='$x$')\n",
    "plt.show()"
   ]
  },
  {
   "cell_type": "code",
   "execution_count": null,
   "id": "928efcf3-688e-4b45-89f4-93548ca5e969",
   "metadata": {},
   "outputs": [],
   "source": []
  },
  {
   "cell_type": "code",
   "execution_count": null,
   "id": "1cd182b1-eebc-4147-b55d-075136c2e22e",
   "metadata": {},
   "outputs": [],
   "source": []
  },
  {
   "cell_type": "code",
   "execution_count": null,
   "id": "b6426496",
   "metadata": {},
   "outputs": [],
   "source": []
  },
  {
   "cell_type": "code",
   "execution_count": null,
   "id": "9bdb5918",
   "metadata": {},
   "outputs": [],
   "source": []
  },
  {
   "cell_type": "code",
   "execution_count": null,
   "id": "2b961c11",
   "metadata": {},
   "outputs": [],
   "source": []
  }
 ],
 "metadata": {
  "kernelspec": {
   "display_name": "Python 3 (ipykernel)",
   "language": "python",
   "name": "python3"
  },
  "language_info": {
   "codemirror_mode": {
    "name": "ipython",
    "version": 3
   },
   "file_extension": ".py",
   "mimetype": "text/x-python",
   "name": "python",
   "nbconvert_exporter": "python",
   "pygments_lexer": "ipython3",
   "version": "3.8.10"
  }
 },
 "nbformat": 4,
 "nbformat_minor": 5
}
